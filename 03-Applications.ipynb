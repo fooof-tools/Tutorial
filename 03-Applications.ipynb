{
 "cells": [
  {
   "cell_type": "markdown",
   "id": "2a19efca",
   "metadata": {},
   "source": [
    "# Applications"
   ]
  },
  {
   "cell_type": "code",
   "execution_count": null,
   "id": "a972eb5f",
   "metadata": {},
   "outputs": [],
   "source": []
  },
  {
   "cell_type": "markdown",
   "id": "0b62379d",
   "metadata": {},
   "source": [
    "## 01) Analyze Data\n",
    "\n",
    "Analyze a dataset. "
   ]
  },
  {
   "cell_type": "code",
   "execution_count": null,
   "id": "04042156",
   "metadata": {},
   "outputs": [],
   "source": []
  },
  {
   "cell_type": "markdown",
   "id": "a2c95786",
   "metadata": {},
   "source": [
    "## 02) Test Methods Assumptions\n",
    "\n",
    "Use simulated data to test method properties. "
   ]
  },
  {
   "cell_type": "code",
   "execution_count": null,
   "id": "6bac13d7",
   "metadata": {},
   "outputs": [],
   "source": []
  },
  {
   "cell_type": "markdown",
   "id": "3456b95a",
   "metadata": {},
   "source": [
    "## 03) Make a visualizer\n",
    "\n",
    "Make an animated visualizer. "
   ]
  },
  {
   "cell_type": "code",
   "execution_count": null,
   "id": "59f13076",
   "metadata": {},
   "outputs": [],
   "source": []
  }
 ],
 "metadata": {
  "kernelspec": {
   "display_name": "Python 3 (ipykernel)",
   "language": "python",
   "name": "python3"
  },
  "language_info": {
   "codemirror_mode": {
    "name": "ipython",
    "version": 3
   },
   "file_extension": ".py",
   "mimetype": "text/x-python",
   "name": "python",
   "nbconvert_exporter": "python",
   "pygments_lexer": "ipython3",
   "version": "3.8.12"
  }
 },
 "nbformat": 4,
 "nbformat_minor": 5
}
