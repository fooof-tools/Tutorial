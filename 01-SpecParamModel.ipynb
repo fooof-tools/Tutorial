{
 "cells": [
  {
   "cell_type": "markdown",
   "id": "6c8069ab",
   "metadata": {},
   "source": [
    "# SpecParam"
   ]
  },
  {
   "cell_type": "code",
   "execution_count": null,
   "id": "834d5d5e",
   "metadata": {},
   "outputs": [],
   "source": []
  },
  {
   "cell_type": "markdown",
   "id": "d78991ee",
   "metadata": {},
   "source": [
    "## 01) Get Started\n",
    "\n",
    "To get started, let's make sure we can run and use the documentation. \n",
    "\n",
    "- go to the [documentation site](https://fooof-tools.github.io/)\n",
    "- click on 'Tutorials', and then '01-Model Description'\n",
    "- go to the bottom of the page, and click the button to download the example as a notebook\n",
    "- save this notebook, and then open it locally on your computer\n",
    "- make sure you can run the tutorial"
   ]
  },
  {
   "cell_type": "code",
   "execution_count": null,
   "id": "c033b97e",
   "metadata": {},
   "outputs": [],
   "source": []
  },
  {
   "cell_type": "markdown",
   "id": "33658c62",
   "metadata": {},
   "source": [
    "## 02) Explore fitting\n",
    "\n",
    "- download example files\n",
    "- start with a fresh cell, and initialize a model object and fit \n",
    "- explore different settings\n",
    "- plot the results and compare differences"
   ]
  },
  {
   "cell_type": "code",
   "execution_count": null,
   "id": "dc304aef",
   "metadata": {},
   "outputs": [],
   "source": []
  }
 ],
 "metadata": {
  "kernelspec": {
   "display_name": "Python 3 (ipykernel)",
   "language": "python",
   "name": "python3"
  },
  "language_info": {
   "codemirror_mode": {
    "name": "ipython",
    "version": 3
   },
   "file_extension": ".py",
   "mimetype": "text/x-python",
   "name": "python",
   "nbconvert_exporter": "python",
   "pygments_lexer": "ipython3",
   "version": "3.8.12"
  }
 },
 "nbformat": 4,
 "nbformat_minor": 5
}
