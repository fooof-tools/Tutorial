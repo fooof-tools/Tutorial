{
 "cells": [
  {
   "cell_type": "markdown",
   "id": "08da61aa",
   "metadata": {},
   "source": [
    "# Setup\n",
    "\n",
    "Getting setup for the tutorial. "
   ]
  },
  {
   "cell_type": "markdown",
   "id": "269abc17",
   "metadata": {},
   "source": [
    "## Testing installations\n",
    "\n",
    "Run the next cell to check if you have the required modules installed. "
   ]
  },
  {
   "cell_type": "code",
   "execution_count": 1,
   "id": "7724afa4",
   "metadata": {},
   "outputs": [],
   "source": [
    "import fooof\n",
    "import neurodsp"
   ]
  },
  {
   "cell_type": "markdown",
   "id": "769e04f4",
   "metadata": {},
   "source": [
    "## Approach\n",
    "\n",
    "This tutorial is organized to serve as a hands-on introduction to using spectral paramterization. \n",
    "\n",
    "Note that this tutorial does not replace or circumvent the module documentation - meaning that things are already detailed and explained in the documentation will not be re-explained here. Rather, where the documentation shows you how things work, this tutorial is aimed at giving you a chance to get practice with the module. Alternately stated, we can think of this as something like a _problem set_ for hands-on practice, rather than documentation materials. For detailated explanations, please refer to the documentation. "
   ]
  }
 ],
 "metadata": {
  "kernelspec": {
   "display_name": "Python 3 (ipykernel)",
   "language": "python",
   "name": "python3"
  },
  "language_info": {
   "codemirror_mode": {
    "name": "ipython",
    "version": 3
   },
   "file_extension": ".py",
   "mimetype": "text/x-python",
   "name": "python",
   "nbconvert_exporter": "python",
   "pygments_lexer": "ipython3",
   "version": "3.8.12"
  }
 },
 "nbformat": 4,
 "nbformat_minor": 5
}
