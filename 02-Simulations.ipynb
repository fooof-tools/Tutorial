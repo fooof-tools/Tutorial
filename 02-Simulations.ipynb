{
 "cells": [
  {
   "cell_type": "markdown",
   "id": "502215be",
   "metadata": {},
   "source": [
    "# Simulations"
   ]
  },
  {
   "cell_type": "code",
   "execution_count": null,
   "id": "ed04f76f",
   "metadata": {},
   "outputs": [],
   "source": []
  },
  {
   "cell_type": "markdown",
   "id": "cb21d488",
   "metadata": {},
   "source": [
    "## 01) Simulate Data\n",
    "\n",
    "- simulate power spectra: follow the examples from specparam\n",
    "- simulate time series: follow the examples from neurodsp"
   ]
  },
  {
   "cell_type": "code",
   "execution_count": null,
   "id": "ad783c29",
   "metadata": {},
   "outputs": [],
   "source": []
  },
  {
   "cell_type": "markdown",
   "id": "93abb1b9",
   "metadata": {},
   "source": [
    "## 02) Mimic Ideas\n",
    "\n",
    "- simulate data to mimic a data effect of interest"
   ]
  },
  {
   "cell_type": "code",
   "execution_count": null,
   "id": "694bc039",
   "metadata": {},
   "outputs": [],
   "source": []
  },
  {
   "cell_type": "code",
   "execution_count": null,
   "id": "572252e8",
   "metadata": {},
   "outputs": [],
   "source": []
  }
 ],
 "metadata": {
  "kernelspec": {
   "display_name": "Python 3 (ipykernel)",
   "language": "python",
   "name": "python3"
  },
  "language_info": {
   "codemirror_mode": {
    "name": "ipython",
    "version": 3
   },
   "file_extension": ".py",
   "mimetype": "text/x-python",
   "name": "python",
   "nbconvert_exporter": "python",
   "pygments_lexer": "ipython3",
   "version": "3.8.12"
  }
 },
 "nbformat": 4,
 "nbformat_minor": 5
}
